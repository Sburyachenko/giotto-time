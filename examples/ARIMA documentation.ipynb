{
 "cells": [
  {
   "cell_type": "markdown",
   "metadata": {},
   "source": [
    "## Problem formulation"
   ]
  },
  {
   "cell_type": "markdown",
   "metadata": {
    "ExecuteTime": {
     "end_time": "2020-04-14T18:44:30.927583Z",
     "start_time": "2020-04-14T18:44:30.912369Z"
    }
   },
   "source": [
    "## Basic ARMA model"
   ]
  },
  {
   "cell_type": "markdown",
   "metadata": {},
   "source": [
    "Basic ARMA(p, q) model can be presented as:\n",
    "    \\begin{equation}\n",
    "    x_t = \\mu + \\varepsilon_t +  \\sum_{i=1}^p \\phi_i x_{t-i} + \\sum_{i=1}^q \\theta_i e_{t-i}\n",
    "    \\end{equation}\n",
    "where $\\varepsilon_i$ are error terms which are expected to form a white noise process (i.e. are independent identically distributed random variables with $\\varepsilon_i \\sim N(0, \\sigma^2)$).\n",
    "The key obstacle in analysing and fitting an ARMA model is that error terms $\\varepsilon_i$ are not observable, nor can they be simply calculated as it is in case of, for example, linear regression ($\\varepsilon = Y - \\alpha - \\beta X$). The equation above \n",
    "    \\begin{equation}\n",
    "    \\varepsilon_t = x_t - (\\mu + \\sum_{i=1}^p \\phi_i x_{t-i} + \\sum_{i=1}^q \\theta_i e_{t-i})\n",
    "    \\end{equation}\n",
    "essencially makes $\\varepsilon_t$ a function of $\\{\\varepsilon_{t-1}...\\varepsilon_{t-p}\\}$ which, in turn, can only be calculated recursivelly through previous values of $\\varepsilon$."
   ]
  },
  {
   "cell_type": "markdown",
   "metadata": {},
   "source": [
    "# State-space representation"
   ]
  },
  {
   "cell_type": "markdown",
   "metadata": {},
   "source": [
    "\n",
    "\n",
    "The problem can be reformulated in matrix form using a state space representation with $m$-dimensional vectors $\\alpha_t$ such that:\n",
    "    \\begin{equation}\n",
    "    \\alpha_t^i = \\phi_i x_{t-1} + \\alpha_{t-1}^i + \\theta_{i-1} \\varepsilon_t\n",
    "    \\end{equation}\n",
    "where $m = \\max(p, q+1)$ and where the coefficients $\\phi_i$ for $p<i\\le m$ and $\\theta_i$ for $q<i\\le m$ are assumed to be $0$.\n",
    "\n",
    "It allows us to split our system into **transition equation** which can be interpreted as its true state under assumed ARMA(p, q) mode:\n",
    "    \\begin{equation}\n",
    "    \\alpha_t = K\\alpha_{t-1} + R \\varepsilon_t*\n",
    "    \\end{equation}\n",
    "where:\n",
    "    \\begin{equation}\n",
    "    K=\n",
    "      \\begin{bmatrix}\n",
    "        \\phi_1 & 1 & 0 & ... & 0 \\\\\n",
    "        \\phi_2 & 0 & 1 & ... & 0 \\\\\n",
    "        \\vdots & \\vdots & \\vdots & ...  & \\vdots \\\\ \n",
    "        \\phi_m & 0 & 0 & ... & 0\n",
    "      \\end{bmatrix}\n",
    "       \\quad and \\quad\n",
    "     R=\n",
    "      \\begin{bmatrix}\n",
    "        1 & 0 & 0 & ... & 0 \\\\\n",
    "        0 & \\theta_1 & 0 & ... & 0 \\\\\n",
    "        \\vdots & \\vdots & \\vdots & ...  & \\vdots \\\\ \n",
    "        0 & 0 & 0 & ... & \\theta_m\n",
    "      \\end{bmatrix}\n",
    "    \\end{equation}\n",
    "  and **measurement equation**, where \n",
    "      \\begin{equation}\n",
    "    \\alpha_t^1 = \\phi_1 x_{t-1} + \\alpha_{t-1}^1 + \\varepsilon_t =\n",
    "        \\phi_1 x_{t-1} + \\phi_2 x_{t-2} + \\alpha_{t-2}^1 + \\theta_1 \\varepsilon_{t-1} +  \\varepsilon_t = ... =\n",
    "        x_t\n",
    "    \\end{equation}\n",
    "  or $x_t = Z \\alpha_t$ where $Z = \\begin{bmatrix}1 & 0 & ... & 0 \\end{bmatrix}$.\n",
    "    \n",
    "    \n",
    "<font color='red'>*Here I interpret $\\varepsilon_t$ as a vector of errors while $R$ is a square matrix. In literature it is also shown as a vector of $\\theta$ multiplied by a constant error but in this case Kalman filter update equation would have a dimensionality mismatch.</font>"
   ]
  },
  {
   "cell_type": "markdown",
   "metadata": {},
   "source": []
  },
  {
   "cell_type": "markdown",
   "metadata": {},
   "source": []
  },
  {
   "cell_type": "markdown",
   "metadata": {},
   "source": []
  },
  {
   "cell_type": "markdown",
   "metadata": {},
   "source": []
  },
  {
   "cell_type": "markdown",
   "metadata": {},
   "source": [
    "### Materials:\n",
    " - https://otexts.com/fpp2/non-seasonal-arima.html - basic problem formulation\n",
    " - https://uh.edu/~bsorense/kalman.pdf - \n",
    " - https://www.stat.purdue.edu/~chong/stat520/ps/statespace.pdf\n",
    " - http://www.stat.ucla.edu/~frederic/221/W17/221ch3.pdf\n",
    " - https://github.com/rlabbe/Kalman-and-Bayesian-Filters-in-Python - general information about filters"
   ]
  },
  {
   "cell_type": "code",
   "execution_count": null,
   "metadata": {},
   "outputs": [],
   "source": []
  }
 ],
 "metadata": {
  "kernelspec": {
   "display_name": "giotto",
   "language": "python",
   "name": "giotto"
  },
  "language_info": {
   "codemirror_mode": {
    "name": "ipython",
    "version": 3
   },
   "file_extension": ".py",
   "mimetype": "text/x-python",
   "name": "python",
   "nbconvert_exporter": "python",
   "pygments_lexer": "ipython3",
   "version": "3.7.1"
  }
 },
 "nbformat": 4,
 "nbformat_minor": 2
}
